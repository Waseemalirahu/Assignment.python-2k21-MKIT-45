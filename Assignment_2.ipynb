{
 "cells": [
  {
   "cell_type": "code",
   "execution_count": 1,
   "id": "fb2c595e",
   "metadata": {},
   "outputs": [],
   "source": [
    "import pandas as pd\n",
    "import numpy as np\n"
   ]
  },
  {
   "cell_type": "markdown",
   "id": "1ace601b",
   "metadata": {},
   "source": [
    "# Task 1: Create a dictionary of city and their respective zip codes. Then ask zip code from user and provide the name of city."
   ]
  },
  {
   "cell_type": "code",
   "execution_count": 2,
   "id": "b53743a1",
   "metadata": {},
   "outputs": [
    {
     "name": "stdout",
     "output_type": "stream",
     "text": [
      "Enter Zipcod 3445\n",
      "Karachi\n"
     ]
    }
   ],
   "source": [
    "d={'69000':'Mirpurkhas', '1229':'Hyderabad','3445':'Karachi','667':'Lahor' }\n",
    "a=input(\"Enter Zipcod \")\n",
    "print(d[a])\n"
   ]
  },
  {
   "cell_type": "markdown",
   "id": "a9139c11",
   "metadata": {},
   "source": [
    "# task 2"
   ]
  },
  {
   "cell_type": "code",
   "execution_count": 9,
   "id": "9762377f",
   "metadata": {},
   "outputs": [
    {
     "data": {
      "text/html": [
       "<div>\n",
       "<style scoped>\n",
       "    .dataframe tbody tr th:only-of-type {\n",
       "        vertical-align: middle;\n",
       "    }\n",
       "\n",
       "    .dataframe tbody tr th {\n",
       "        vertical-align: top;\n",
       "    }\n",
       "\n",
       "    .dataframe thead th {\n",
       "        text-align: right;\n",
       "    }\n",
       "</style>\n",
       "<table border=\"1\" class=\"dataframe\">\n",
       "  <thead>\n",
       "    <tr style=\"text-align: right;\">\n",
       "      <th></th>\n",
       "      <th>name</th>\n",
       "      <th>first year marks</th>\n",
       "      <th>total Marks</th>\n",
       "      <th>average marks</th>\n",
       "    </tr>\n",
       "  </thead>\n",
       "  <tbody>\n",
       "    <tr>\n",
       "      <th>0</th>\n",
       "      <td>Waseem Ali</td>\n",
       "      <td>900</td>\n",
       "      <td>1250</td>\n",
       "      <td>12.3</td>\n",
       "    </tr>\n",
       "    <tr>\n",
       "      <th>1</th>\n",
       "      <td>shoaban Ali</td>\n",
       "      <td>800</td>\n",
       "      <td>1200</td>\n",
       "      <td>11.2</td>\n",
       "    </tr>\n",
       "    <tr>\n",
       "      <th>2</th>\n",
       "      <td>Waleed</td>\n",
       "      <td>700</td>\n",
       "      <td>1100</td>\n",
       "      <td>11.1</td>\n",
       "    </tr>\n",
       "    <tr>\n",
       "      <th>3</th>\n",
       "      <td>Hammad</td>\n",
       "      <td>600</td>\n",
       "      <td>1150</td>\n",
       "      <td>11.5</td>\n",
       "    </tr>\n",
       "    <tr>\n",
       "      <th>4</th>\n",
       "      <td>Tahseen</td>\n",
       "      <td>500</td>\n",
       "      <td>1050</td>\n",
       "      <td>10.6</td>\n",
       "    </tr>\n",
       "  </tbody>\n",
       "</table>\n",
       "</div>"
      ],
      "text/plain": [
       "          name first year marks  total Marks  average marks\n",
       "0   Waseem Ali              900         1250           12.3\n",
       "1  shoaban Ali              800         1200           11.2\n",
       "2       Waleed              700         1100           11.1\n",
       "3       Hammad              600         1150           11.5\n",
       "4      Tahseen              500         1050           10.6"
      ]
     },
     "execution_count": 9,
     "metadata": {},
     "output_type": "execute_result"
    }
   ],
   "source": [
    "data = { 'name' : ['Waseem Ali', 'shoaban Ali', 'Waleed','Hammad','Tahseen'],\n",
    "'first year marks' : ['900', '800', '700','600','500'],\n",
    "'total Marks' : [1250, 1200, 1100,1150,1050],\n",
    "'average marks' : [12.3, 11.2,11.1,11.5,10.6]\n",
    "}\n",
    "\n",
    "df = pd.DataFrame(data)\n",
    "df"
   ]
  },
  {
   "cell_type": "code",
   "execution_count": null,
   "id": "e4aade7f",
   "metadata": {},
   "outputs": [],
   "source": []
  },
  {
   "cell_type": "code",
   "execution_count": null,
   "id": "a0332a90",
   "metadata": {},
   "outputs": [],
   "source": []
  }
 ],
 "metadata": {
  "kernelspec": {
   "display_name": "Python 3 (ipykernel)",
   "language": "python",
   "name": "python3"
  },
  "language_info": {
   "codemirror_mode": {
    "name": "ipython",
    "version": 3
   },
   "file_extension": ".py",
   "mimetype": "text/x-python",
   "name": "python",
   "nbconvert_exporter": "python",
   "pygments_lexer": "ipython3",
   "version": "3.9.12"
  }
 },
 "nbformat": 4,
 "nbformat_minor": 5
}
