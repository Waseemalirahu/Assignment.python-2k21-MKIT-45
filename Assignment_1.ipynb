{
 "cells": [
  {
   "cell_type": "markdown",
   "id": "20323468",
   "metadata": {},
   "source": [
    "# While loop"
   ]
  },
  {
   "cell_type": "code",
   "execution_count": 1,
   "id": "52a04e85",
   "metadata": {},
   "outputs": [
    {
     "name": "stdout",
     "output_type": "stream",
     "text": [
      "1,2,3,4,5,6,7,8,9,10,11,12,13,14,15,16,17,18,19,20,21,22,23,24,25,26,27,28,29,30,31,32,33,34,35,36,37,38,39,40,41,42,43,44,45,2k21/MKIT/45\n"
     ]
    }
   ],
   "source": [
    "i=0\n",
    "while i < 48:\n",
    "    if i== 45:\n",
    "        print(\"2k21/MKIT/45\")\n",
    "        break\n",
    "    i+=1\n",
    "    print(i,end=\",\")"
   ]
  },
  {
   "cell_type": "code",
   "execution_count": 2,
   "id": "415e6a0c",
   "metadata": {},
   "outputs": [
    {
     "name": "stdout",
     "output_type": "stream",
     "text": [
      "1,2,3,4,5,6,7,8,9,10,12,13,14,15,16,18,19,20,23,24,25,26,27,28,29,31,32,33,34,35,36,37,38,39,40,41,42,43,44,45,46,47,"
     ]
    }
   ],
   "source": [
    "#continue\n",
    "for i in range(1,48):\n",
    "    if i==30 or i==21 or i==11 or i==17 or i==22:\n",
    "        continue\n",
    "    print(i,end=\",\")   \n",
    "    "
   ]
  },
  {
   "cell_type": "code",
   "execution_count": 3,
   "id": "42b0d928",
   "metadata": {},
   "outputs": [
    {
     "name": "stdout",
     "output_type": "stream",
     "text": [
      "Enter Python Marks 70\n",
      "Enter Database Marks 70\n",
      "Enter C.Networking Marks 70\n",
      "Enter HRM Marks   70\n",
      "Enter OOAD Marks  70\n",
      "Enter Profesional P Marks  70\n",
      "70.0\n"
     ]
    }
   ],
   "source": [
    "t=0\n",
    "a=int(input('Enter Python Marks '))\n",
    "b=int(input('Enter Database Marks '))\n",
    "c=int(input('Enter C.Networking Marks '))\n",
    "d=int(input('Enter HRM Marks   ' ))\n",
    "e=int(input('Enter OOAD Marks  ' ))\n",
    "f=int(input('Enter Profesional P Marks  '))\n",
    "if a > 49:\n",
    "    t+=a\n",
    "if b > 49:\n",
    "    t+=b\n",
    "if c > 49:\n",
    "    t+=c\n",
    "if d > 49:\n",
    "    t+=d\n",
    "if e > 49:\n",
    "    t+=e\n",
    "if f > 49:\n",
    "    t+=f\n",
    "\n",
    "p=t/600*100\n",
    "print(p)\n"
   ]
  },
  {
   "cell_type": "markdown",
   "id": "cccd1448",
   "metadata": {},
   "source": []
  }
 ],
 "metadata": {
  "kernelspec": {
   "display_name": "Python 3 (ipykernel)",
   "language": "python",
   "name": "python3"
  },
  "language_info": {
   "codemirror_mode": {
    "name": "ipython",
    "version": 3
   },
   "file_extension": ".py",
   "mimetype": "text/x-python",
   "name": "python",
   "nbconvert_exporter": "python",
   "pygments_lexer": "ipython3",
   "version": "3.9.12"
  }
 },
 "nbformat": 4,
 "nbformat_minor": 5
}
